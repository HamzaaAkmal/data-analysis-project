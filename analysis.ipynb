{
 "cells": [
  {
   "cell_type": "markdown",
   "metadata": {},
   "source": [
    "# Medical Students Health Analysis\n",
    "\n",
    "## About the Dataset\n",
    "This project utilizes a dataset sourced from [Kaggle](https://www.kaggle.com/), containing information about medical students and their health activities. The dataset includes variables such as age, weight, smoking habits, diabetes status, and other health-related factors.\n",
    "\n",
    "## Project Objectives\n",
    "The aim of this project is to analyze the health activities and patterns of medical students. Key questions addressed include:\n",
    "1. **What is the age distribution of medical students?**\n",
    "2. **How many students in the dataset are smokers?**\n",
    "3. **How many students have been diagnosed with diabetes?**\n",
    "4. **What is the relationship between age and weight?**\n",
    "\n",
    "**LIBRARIES**:\n",
    "\n",
    "- Library **pandas**: to handle data in tabular representation.\n",
    "\n",
    "\n",
    "## Functionalities and Techniques\n",
    "This project involves the following:\n",
    "### Data Preprocessing\n",
    "- Cleaning missing or invalid entries.\n",
    "- Converting categorical data into numerical formats for analysis.\n",
    "\n",
    "### Exploratory Data Analysis (EDA)\n",
    "- Descriptive statistics to summarize the data.\n",
    "- Visualizations to understand trends, distributions, and correlations.\n",
    "\n",
    "### Functions Used\n",
    "1. **`pandas.read_csv()`**  \n",
    "   - To load the dataset into a pandas DataFrame.\n",
    "\n",
    "2. **`pandas.DataFrame.describe()`**  \n",
    "   - Provides a summary of statistics like mean, median, and quartiles.\n",
    "\n",
    "3. **`pandas.DataFrame.groupby()`**  \n",
    "   - For aggregating data based on certain columns (e.g., counting smokers).\n",
    "\n",
    "4. **`pandas.DataFrame.plot()`**  \n",
    "   - To create visualizations such as bar charts, scatter plots, and histograms.\n",
    "\n",
    "5. **Correlation Analysis**\n",
    "   - Evaluates the relationship between numerical variables (e.g., age and weight).\n",
    "\n",
    "\n"
   ]
  },
  {
   "cell_type": "markdown",
   "metadata": {},
   "source": [
    "# 1. Libraries Import and Data Discription\n",
    "In this phase we will import necessary libraries and load the dataset"
   ]
  },
  {
   "cell_type": "markdown",
   "metadata": {},
   "source": [
    "## 1.1 Import"
   ]
  },
  {
   "cell_type": "code",
   "execution_count": 107,
   "metadata": {},
   "outputs": [],
   "source": [
    "import pandas as pd\n"
   ]
  },
  {
   "cell_type": "markdown",
   "metadata": {},
   "source": [
    "## 1.2 Retrieve the dataset"
   ]
  },
  {
   "cell_type": "code",
   "execution_count": 108,
   "metadata": {},
   "outputs": [
    {
     "name": "stdout",
     "output_type": "stream",
     "text": [
      "\n",
      "First few rows of the dataset:\n"
     ]
    },
    {
     "data": {
      "text/html": [
       "<div>\n",
       "<style scoped>\n",
       "    .dataframe tbody tr th:only-of-type {\n",
       "        vertical-align: middle;\n",
       "    }\n",
       "\n",
       "    .dataframe tbody tr th {\n",
       "        vertical-align: top;\n",
       "    }\n",
       "\n",
       "    .dataframe thead th {\n",
       "        text-align: right;\n",
       "    }\n",
       "</style>\n",
       "<table border=\"1\" class=\"dataframe\">\n",
       "  <thead>\n",
       "    <tr style=\"text-align: right;\">\n",
       "      <th></th>\n",
       "      <th>Student ID</th>\n",
       "      <th>Age</th>\n",
       "      <th>Gender</th>\n",
       "      <th>Height</th>\n",
       "      <th>Weight</th>\n",
       "      <th>Blood Type</th>\n",
       "      <th>BMI</th>\n",
       "      <th>Temperature</th>\n",
       "      <th>Heart Rate</th>\n",
       "      <th>Blood Pressure</th>\n",
       "      <th>Cholesterol</th>\n",
       "      <th>Diabetes</th>\n",
       "      <th>Smoking</th>\n",
       "    </tr>\n",
       "  </thead>\n",
       "  <tbody>\n",
       "    <tr>\n",
       "      <th>0</th>\n",
       "      <td>4995.0</td>\n",
       "      <td>22.0</td>\n",
       "      <td>Female</td>\n",
       "      <td>195.079777</td>\n",
       "      <td>60.281250</td>\n",
       "      <td>A</td>\n",
       "      <td>15.840094</td>\n",
       "      <td>98.686594</td>\n",
       "      <td>75.0</td>\n",
       "      <td>118.0</td>\n",
       "      <td>194.0</td>\n",
       "      <td>No</td>\n",
       "      <td>NaN</td>\n",
       "    </tr>\n",
       "    <tr>\n",
       "      <th>1</th>\n",
       "      <td>4996.0</td>\n",
       "      <td>27.0</td>\n",
       "      <td>Male</td>\n",
       "      <td>174.863528</td>\n",
       "      <td>54.670170</td>\n",
       "      <td>A</td>\n",
       "      <td>17.879359</td>\n",
       "      <td>98.096490</td>\n",
       "      <td>76.0</td>\n",
       "      <td>119.0</td>\n",
       "      <td>NaN</td>\n",
       "      <td>Yes</td>\n",
       "      <td>No</td>\n",
       "    </tr>\n",
       "    <tr>\n",
       "      <th>2</th>\n",
       "      <td>4997.0</td>\n",
       "      <td>26.0</td>\n",
       "      <td>Male</td>\n",
       "      <td>164.934305</td>\n",
       "      <td>68.828826</td>\n",
       "      <td>AB</td>\n",
       "      <td>25.301623</td>\n",
       "      <td>98.498367</td>\n",
       "      <td>61.0</td>\n",
       "      <td>139.0</td>\n",
       "      <td>239.0</td>\n",
       "      <td>Yes</td>\n",
       "      <td>No</td>\n",
       "    </tr>\n",
       "    <tr>\n",
       "      <th>3</th>\n",
       "      <td>4998.0</td>\n",
       "      <td>31.0</td>\n",
       "      <td>Female</td>\n",
       "      <td>184.304515</td>\n",
       "      <td>42.961291</td>\n",
       "      <td>AB</td>\n",
       "      <td>12.647520</td>\n",
       "      <td>97.903671</td>\n",
       "      <td>81.0</td>\n",
       "      <td>100.0</td>\n",
       "      <td>203.0</td>\n",
       "      <td>NaN</td>\n",
       "      <td>NaN</td>\n",
       "    </tr>\n",
       "    <tr>\n",
       "      <th>4</th>\n",
       "      <td>4999.0</td>\n",
       "      <td>26.0</td>\n",
       "      <td>Female</td>\n",
       "      <td>171.308846</td>\n",
       "      <td>44.493067</td>\n",
       "      <td>AB</td>\n",
       "      <td>15.161172</td>\n",
       "      <td>97.901052</td>\n",
       "      <td>91.0</td>\n",
       "      <td>107.0</td>\n",
       "      <td>143.0</td>\n",
       "      <td>No</td>\n",
       "      <td>No</td>\n",
       "    </tr>\n",
       "  </tbody>\n",
       "</table>\n",
       "</div>"
      ],
      "text/plain": [
       "   Student ID   Age  Gender      Height     Weight Blood Type        BMI  \\\n",
       "0      4995.0  22.0  Female  195.079777  60.281250          A  15.840094   \n",
       "1      4996.0  27.0    Male  174.863528  54.670170          A  17.879359   \n",
       "2      4997.0  26.0    Male  164.934305  68.828826         AB  25.301623   \n",
       "3      4998.0  31.0  Female  184.304515  42.961291         AB  12.647520   \n",
       "4      4999.0  26.0  Female  171.308846  44.493067         AB  15.161172   \n",
       "\n",
       "   Temperature  Heart Rate  Blood Pressure  Cholesterol Diabetes Smoking  \n",
       "0    98.686594        75.0           118.0        194.0       No     NaN  \n",
       "1    98.096490        76.0           119.0          NaN      Yes      No  \n",
       "2    98.498367        61.0           139.0        239.0      Yes      No  \n",
       "3    97.903671        81.0           100.0        203.0      NaN     NaN  \n",
       "4    97.901052        91.0           107.0        143.0       No      No  "
      ]
     },
     "execution_count": 108,
     "metadata": {},
     "output_type": "execute_result"
    }
   ],
   "source": [
    "data = pd.read_csv(\"medical.csv\")\n",
    "df=pd.DataFrame(data)\n",
    "print(\"\\nFirst few rows of the dataset:\")\n",
    "df.head()"
   ]
  },
  {
   "cell_type": "markdown",
   "metadata": {},
   "source": [
    "## 1.3 Data Types"
   ]
  },
  {
   "cell_type": "code",
   "execution_count": 109,
   "metadata": {},
   "outputs": [
    {
     "name": "stdout",
     "output_type": "stream",
     "text": [
      "\n",
      "Data Info:\n",
      "<class 'pandas.core.frame.DataFrame'>\n",
      "RangeIndex: 1503 entries, 0 to 1502\n",
      "Data columns (total 13 columns):\n",
      " #   Column          Non-Null Count  Dtype  \n",
      "---  ------          --------------  -----  \n",
      " 0   Student ID      1366 non-null   float64\n",
      " 1   Age             1352 non-null   float64\n",
      " 2   Gender          1369 non-null   object \n",
      " 3   Height          1333 non-null   float64\n",
      " 4   Weight          1347 non-null   float64\n",
      " 5   Blood Type      1366 non-null   object \n",
      " 6   BMI             1337 non-null   float64\n",
      " 7   Temperature     1343 non-null   float64\n",
      " 8   Heart Rate      1357 non-null   float64\n",
      " 9   Blood Pressure  1361 non-null   float64\n",
      " 10  Cholesterol     1348 non-null   float64\n",
      " 11  Diabetes        1353 non-null   object \n",
      " 12  Smoking         1334 non-null   object \n",
      "dtypes: float64(9), object(4)\n",
      "memory usage: 152.8+ KB\n"
     ]
    }
   ],
   "source": [
    "print(\"\\nData Info:\") \n",
    "df.info() "
   ]
  },
  {
   "cell_type": "code",
   "execution_count": 110,
   "metadata": {},
   "outputs": [
    {
     "name": "stdout",
     "output_type": "stream",
     "text": [
      "\n",
      "Data Description:\n"
     ]
    },
    {
     "data": {
      "text/html": [
       "<div>\n",
       "<style scoped>\n",
       "    .dataframe tbody tr th:only-of-type {\n",
       "        vertical-align: middle;\n",
       "    }\n",
       "\n",
       "    .dataframe tbody tr th {\n",
       "        vertical-align: top;\n",
       "    }\n",
       "\n",
       "    .dataframe thead th {\n",
       "        text-align: right;\n",
       "    }\n",
       "</style>\n",
       "<table border=\"1\" class=\"dataframe\">\n",
       "  <thead>\n",
       "    <tr style=\"text-align: right;\">\n",
       "      <th></th>\n",
       "      <th>Student ID</th>\n",
       "      <th>Age</th>\n",
       "      <th>Height</th>\n",
       "      <th>Weight</th>\n",
       "      <th>BMI</th>\n",
       "      <th>Temperature</th>\n",
       "      <th>Heart Rate</th>\n",
       "      <th>Blood Pressure</th>\n",
       "      <th>Cholesterol</th>\n",
       "    </tr>\n",
       "  </thead>\n",
       "  <tbody>\n",
       "    <tr>\n",
       "      <th>count</th>\n",
       "      <td>1366.000000</td>\n",
       "      <td>1352.000000</td>\n",
       "      <td>1333.000000</td>\n",
       "      <td>1347.000000</td>\n",
       "      <td>1337.000000</td>\n",
       "      <td>1343.000000</td>\n",
       "      <td>1357.000000</td>\n",
       "      <td>1361.000000</td>\n",
       "      <td>1348.000000</td>\n",
       "    </tr>\n",
       "    <tr>\n",
       "      <th>mean</th>\n",
       "      <td>5746.933382</td>\n",
       "      <td>26.165680</td>\n",
       "      <td>174.758619</td>\n",
       "      <td>70.024115</td>\n",
       "      <td>23.360060</td>\n",
       "      <td>98.596450</td>\n",
       "      <td>79.540162</td>\n",
       "      <td>114.753123</td>\n",
       "      <td>185.014095</td>\n",
       "    </tr>\n",
       "    <tr>\n",
       "      <th>std</th>\n",
       "      <td>433.407187</td>\n",
       "      <td>4.832416</td>\n",
       "      <td>14.277427</td>\n",
       "      <td>17.385564</td>\n",
       "      <td>7.038193</td>\n",
       "      <td>0.518333</td>\n",
       "      <td>11.539181</td>\n",
       "      <td>14.192558</td>\n",
       "      <td>37.321222</td>\n",
       "    </tr>\n",
       "    <tr>\n",
       "      <th>min</th>\n",
       "      <td>4995.000000</td>\n",
       "      <td>18.000000</td>\n",
       "      <td>150.045121</td>\n",
       "      <td>40.008471</td>\n",
       "      <td>10.261761</td>\n",
       "      <td>96.910729</td>\n",
       "      <td>60.000000</td>\n",
       "      <td>90.000000</td>\n",
       "      <td>120.000000</td>\n",
       "    </tr>\n",
       "    <tr>\n",
       "      <th>25%</th>\n",
       "      <td>5375.250000</td>\n",
       "      <td>22.000000</td>\n",
       "      <td>162.376575</td>\n",
       "      <td>55.081985</td>\n",
       "      <td>17.960549</td>\n",
       "      <td>98.231268</td>\n",
       "      <td>70.000000</td>\n",
       "      <td>103.000000</td>\n",
       "      <td>153.000000</td>\n",
       "    </tr>\n",
       "    <tr>\n",
       "      <th>50%</th>\n",
       "      <td>5749.500000</td>\n",
       "      <td>26.000000</td>\n",
       "      <td>174.673665</td>\n",
       "      <td>69.796709</td>\n",
       "      <td>22.672867</td>\n",
       "      <td>98.617989</td>\n",
       "      <td>80.000000</td>\n",
       "      <td>115.000000</td>\n",
       "      <td>185.000000</td>\n",
       "    </tr>\n",
       "    <tr>\n",
       "      <th>75%</th>\n",
       "      <td>6123.750000</td>\n",
       "      <td>30.000000</td>\n",
       "      <td>186.722205</td>\n",
       "      <td>85.319387</td>\n",
       "      <td>27.963699</td>\n",
       "      <td>98.957225</td>\n",
       "      <td>90.000000</td>\n",
       "      <td>127.000000</td>\n",
       "      <td>218.000000</td>\n",
       "    </tr>\n",
       "    <tr>\n",
       "      <th>max</th>\n",
       "      <td>6497.000000</td>\n",
       "      <td>34.000000</td>\n",
       "      <td>199.989198</td>\n",
       "      <td>99.984648</td>\n",
       "      <td>43.253636</td>\n",
       "      <td>100.083148</td>\n",
       "      <td>99.000000</td>\n",
       "      <td>139.000000</td>\n",
       "      <td>249.000000</td>\n",
       "    </tr>\n",
       "  </tbody>\n",
       "</table>\n",
       "</div>"
      ],
      "text/plain": [
       "        Student ID          Age       Height       Weight          BMI  \\\n",
       "count  1366.000000  1352.000000  1333.000000  1347.000000  1337.000000   \n",
       "mean   5746.933382    26.165680   174.758619    70.024115    23.360060   \n",
       "std     433.407187     4.832416    14.277427    17.385564     7.038193   \n",
       "min    4995.000000    18.000000   150.045121    40.008471    10.261761   \n",
       "25%    5375.250000    22.000000   162.376575    55.081985    17.960549   \n",
       "50%    5749.500000    26.000000   174.673665    69.796709    22.672867   \n",
       "75%    6123.750000    30.000000   186.722205    85.319387    27.963699   \n",
       "max    6497.000000    34.000000   199.989198    99.984648    43.253636   \n",
       "\n",
       "       Temperature   Heart Rate  Blood Pressure  Cholesterol  \n",
       "count  1343.000000  1357.000000     1361.000000  1348.000000  \n",
       "mean     98.596450    79.540162      114.753123   185.014095  \n",
       "std       0.518333    11.539181       14.192558    37.321222  \n",
       "min      96.910729    60.000000       90.000000   120.000000  \n",
       "25%      98.231268    70.000000      103.000000   153.000000  \n",
       "50%      98.617989    80.000000      115.000000   185.000000  \n",
       "75%      98.957225    90.000000      127.000000   218.000000  \n",
       "max     100.083148    99.000000      139.000000   249.000000  "
      ]
     },
     "execution_count": 110,
     "metadata": {},
     "output_type": "execute_result"
    }
   ],
   "source": [
    "print(\"\\nData Description:\")    \n",
    "df.describe()  "
   ]
  },
  {
   "cell_type": "code",
   "execution_count": 111,
   "metadata": {},
   "outputs": [
    {
     "name": "stdout",
     "output_type": "stream",
     "text": [
      "\n",
      "Dimentions of Data\n"
     ]
    },
    {
     "data": {
      "text/plain": [
       "(1503, 13)"
      ]
     },
     "execution_count": 111,
     "metadata": {},
     "output_type": "execute_result"
    }
   ],
   "source": [
    "print('\\nDimentions of Data')\n",
    "df.shape"
   ]
  },
  {
   "cell_type": "markdown",
   "metadata": {},
   "source": [
    "# 2. Data Preprocessing and Cleaning "
   ]
  },
  {
   "cell_type": "markdown",
   "metadata": {},
   "source": [
    "## 2.1  Standardizing Column Names\n",
    "Ensuring all column names are uniform, descriptive, and consistent with best practices."
   ]
  },
  {
   "cell_type": "code",
   "execution_count": 112,
   "metadata": {},
   "outputs": [
    {
     "data": {
      "text/plain": [
       "Index(['Student ID', 'Age', 'Gender', 'Height', 'Weight', 'Blood Type', 'BMI',\n",
       "       'Temperature', 'Heart Rate', 'Blood Pressure', 'Cholesterol',\n",
       "       'Diabetes', 'Smoking'],\n",
       "      dtype='object')"
      ]
     },
     "execution_count": 112,
     "metadata": {},
     "output_type": "execute_result"
    }
   ],
   "source": [
    "df.columns"
   ]
  },
  {
   "cell_type": "code",
   "execution_count": 113,
   "metadata": {},
   "outputs": [
    {
     "data": {
      "text/html": [
       "<div>\n",
       "<style scoped>\n",
       "    .dataframe tbody tr th:only-of-type {\n",
       "        vertical-align: middle;\n",
       "    }\n",
       "\n",
       "    .dataframe tbody tr th {\n",
       "        vertical-align: top;\n",
       "    }\n",
       "\n",
       "    .dataframe thead th {\n",
       "        text-align: right;\n",
       "    }\n",
       "</style>\n",
       "<table border=\"1\" class=\"dataframe\">\n",
       "  <thead>\n",
       "    <tr style=\"text-align: right;\">\n",
       "      <th></th>\n",
       "      <th>Age</th>\n",
       "      <th>Gender</th>\n",
       "      <th>BMI</th>\n",
       "      <th>Smoking</th>\n",
       "      <th>Diabetes</th>\n",
       "    </tr>\n",
       "  </thead>\n",
       "  <tbody>\n",
       "    <tr>\n",
       "      <th>0</th>\n",
       "      <td>22.0</td>\n",
       "      <td>Female</td>\n",
       "      <td>15.840094</td>\n",
       "      <td>NaN</td>\n",
       "      <td>No</td>\n",
       "    </tr>\n",
       "    <tr>\n",
       "      <th>1</th>\n",
       "      <td>27.0</td>\n",
       "      <td>Male</td>\n",
       "      <td>17.879359</td>\n",
       "      <td>No</td>\n",
       "      <td>Yes</td>\n",
       "    </tr>\n",
       "    <tr>\n",
       "      <th>2</th>\n",
       "      <td>26.0</td>\n",
       "      <td>Male</td>\n",
       "      <td>25.301623</td>\n",
       "      <td>No</td>\n",
       "      <td>Yes</td>\n",
       "    </tr>\n",
       "    <tr>\n",
       "      <th>3</th>\n",
       "      <td>31.0</td>\n",
       "      <td>Female</td>\n",
       "      <td>12.647520</td>\n",
       "      <td>NaN</td>\n",
       "      <td>NaN</td>\n",
       "    </tr>\n",
       "    <tr>\n",
       "      <th>4</th>\n",
       "      <td>26.0</td>\n",
       "      <td>Female</td>\n",
       "      <td>15.161172</td>\n",
       "      <td>No</td>\n",
       "      <td>No</td>\n",
       "    </tr>\n",
       "  </tbody>\n",
       "</table>\n",
       "</div>"
      ],
      "text/plain": [
       "    Age  Gender        BMI Smoking Diabetes\n",
       "0  22.0  Female  15.840094     NaN       No\n",
       "1  27.0    Male  17.879359      No      Yes\n",
       "2  26.0    Male  25.301623      No      Yes\n",
       "3  31.0  Female  12.647520     NaN      NaN\n",
       "4  26.0  Female  15.161172      No       No"
      ]
     },
     "execution_count": 113,
     "metadata": {},
     "output_type": "execute_result"
    }
   ],
   "source": [
    "cl = [\"Age\",\"Gender\",\"BMI\",\"Smoking\",\"Diabetes\"]\n",
    "df = df[cl]\n",
    "df.head()\n"
   ]
  },
  {
   "cell_type": "code",
   "execution_count": 114,
   "metadata": {},
   "outputs": [
    {
     "data": {
      "text/plain": [
       "Index(['Age', 'Gender', 'BMI', 'Smoking', 'Diabetes'], dtype='object')"
      ]
     },
     "execution_count": 114,
     "metadata": {},
     "output_type": "execute_result"
    }
   ],
   "source": [
    "df.columns"
   ]
  },
  {
   "cell_type": "markdown",
   "metadata": {},
   "source": [
    "## 2.2 Handling Missing Values\n",
    "Identify, analyze, and address missing or incomplete data to ensure consistency and reliability."
   ]
  },
  {
   "cell_type": "markdown",
   "metadata": {},
   "source": [
    "### 2.1 Removing Duplicates"
   ]
  },
  {
   "cell_type": "code",
   "execution_count": 115,
   "metadata": {},
   "outputs": [],
   "source": [
    "df = df.drop_duplicates()"
   ]
  },
  {
   "cell_type": "markdown",
   "metadata": {},
   "source": [
    "### 2.2 Finding Duplicate Values"
   ]
  },
  {
   "cell_type": "code",
   "execution_count": 116,
   "metadata": {},
   "outputs": [
    {
     "data": {
      "text/plain": [
       "0"
      ]
     },
     "execution_count": 116,
     "metadata": {},
     "output_type": "execute_result"
    }
   ],
   "source": [
    "# Check for duplicate rows\n",
    "duplicates = df.duplicated()\n",
    "duplicates.sum()"
   ]
  },
  {
   "cell_type": "markdown",
   "metadata": {},
   "source": [
    "### 2.3 Check for Missing Values"
   ]
  },
  {
   "cell_type": "code",
   "execution_count": 117,
   "metadata": {},
   "outputs": [
    {
     "name": "stdout",
     "output_type": "stream",
     "text": [
      "Original rows: 1427\n",
      "Null in Gender: 130\n",
      "Rows after drop: 1297\n"
     ]
    }
   ],
   "source": [
    "# Before dropping\n",
    "print(\"Original rows:\", len(df))\n",
    "print(\"Null in Gender:\", df['Gender'].isnull().sum())\n",
    "\n",
    "# After dropping\n",
    "df.dropna(subset=['Gender'], inplace=True)\n",
    "print(\"Rows after drop:\", len(df))"
   ]
  },
  {
   "cell_type": "code",
   "execution_count": 118,
   "metadata": {},
   "outputs": [
    {
     "data": {
      "text/plain": [
       "Age         133\n",
       "Gender        0\n",
       "BMI          79\n",
       "Smoking     154\n",
       "Diabetes    140\n",
       "dtype: int64"
      ]
     },
     "execution_count": 118,
     "metadata": {},
     "output_type": "execute_result"
    }
   ],
   "source": [
    "df.isnull().sum()"
   ]
  },
  {
   "cell_type": "markdown",
   "metadata": {},
   "source": [
    "### 2.4 Filling Missing Values\n",
    "### Used appropriate defaults for missing values:\n",
    "- Age: Filled with median.\n",
    "- Gender: Defaulted to \"Female.\"\n",
    "- BMI: Filled with median.\n",
    "- Smoking: Defaulted to \"No.\"\n",
    "- Diabetes: Defaulted to \"No.\""
   ]
  },
  {
   "cell_type": "code",
   "execution_count": 119,
   "metadata": {},
   "outputs": [],
   "source": [
    "df.dropna(subset=['Gender'], inplace=True)"
   ]
  },
  {
   "cell_type": "code",
   "execution_count": 120,
   "metadata": {},
   "outputs": [
    {
     "data": {
      "text/plain": [
       "Gender\n",
       "Female    663\n",
       "Male      634\n",
       "Name: count, dtype: int64"
      ]
     },
     "execution_count": 120,
     "metadata": {},
     "output_type": "execute_result"
    }
   ],
   "source": [
    "df[\"Gender\"].value_counts()"
   ]
  },
  {
   "cell_type": "code",
   "execution_count": 121,
   "metadata": {},
   "outputs": [
    {
     "name": "stderr",
     "output_type": "stream",
     "text": [
      "C:\\Users\\ADMIN\\AppData\\Local\\Temp\\ipykernel_18756\\4235496131.py:2: FutureWarning: A value is trying to be set on a copy of a DataFrame or Series through chained assignment using an inplace method.\n",
      "The behavior will change in pandas 3.0. This inplace method will never work because the intermediate object on which we are setting values always behaves as a copy.\n",
      "\n",
      "For example, when doing 'df[col].method(value, inplace=True)', try using 'df.method({col: value}, inplace=True)' or df[col] = df[col].method(value) instead, to perform the operation inplace on the original object.\n",
      "\n",
      "\n",
      "  df[\"Age\"].fillna(df[\"Age\"].median(), inplace=True)\n",
      "C:\\Users\\ADMIN\\AppData\\Local\\Temp\\ipykernel_18756\\4235496131.py:4: FutureWarning: A value is trying to be set on a copy of a DataFrame or Series through chained assignment using an inplace method.\n",
      "The behavior will change in pandas 3.0. This inplace method will never work because the intermediate object on which we are setting values always behaves as a copy.\n",
      "\n",
      "For example, when doing 'df[col].method(value, inplace=True)', try using 'df.method({col: value}, inplace=True)' or df[col] = df[col].method(value) instead, to perform the operation inplace on the original object.\n",
      "\n",
      "\n",
      "  df[\"BMI\"].fillna(df[\"BMI\"].median(), inplace=True)\n"
     ]
    }
   ],
   "source": [
    "# 1. Fill missing values with appropriate defaults\n",
    "df[\"Age\"].fillna(df[\"Age\"].median(), inplace=True)\n",
    "# Drop gender null values\n",
    "df[\"BMI\"].fillna(df[\"BMI\"].median(), inplace=True)\n",
    "df[\"Smoking\"] = df[\"Smoking\"].fillna(df[\"Smoking\"].mode()[0])\n",
    "df[\"Diabetes\"] = df[\"Diabetes\"].fillna(df[\"Diabetes\"].mode()[0])\n"
   ]
  },
  {
   "cell_type": "code",
   "execution_count": 122,
   "metadata": {},
   "outputs": [
    {
     "data": {
      "text/plain": [
       "Age         0\n",
       "Gender      0\n",
       "BMI         0\n",
       "Smoking     0\n",
       "Diabetes    0\n",
       "dtype: int64"
      ]
     },
     "execution_count": 122,
     "metadata": {},
     "output_type": "execute_result"
    }
   ],
   "source": [
    "df.isnull().sum()"
   ]
  },
  {
   "cell_type": "code",
   "execution_count": 78,
   "metadata": {},
   "outputs": [
    {
     "data": {
      "text/html": [
       "<div>\n",
       "<style scoped>\n",
       "    .dataframe tbody tr th:only-of-type {\n",
       "        vertical-align: middle;\n",
       "    }\n",
       "\n",
       "    .dataframe tbody tr th {\n",
       "        vertical-align: top;\n",
       "    }\n",
       "\n",
       "    .dataframe thead th {\n",
       "        text-align: right;\n",
       "    }\n",
       "</style>\n",
       "<table border=\"1\" class=\"dataframe\">\n",
       "  <thead>\n",
       "    <tr style=\"text-align: right;\">\n",
       "      <th></th>\n",
       "      <th>Age</th>\n",
       "      <th>Gender</th>\n",
       "      <th>BMI</th>\n",
       "      <th>Smoking</th>\n",
       "      <th>Diabetes</th>\n",
       "    </tr>\n",
       "  </thead>\n",
       "  <tbody>\n",
       "    <tr>\n",
       "      <th>0</th>\n",
       "      <td>22.0</td>\n",
       "      <td>Female</td>\n",
       "      <td>15.840094</td>\n",
       "      <td>No</td>\n",
       "      <td>No</td>\n",
       "    </tr>\n",
       "    <tr>\n",
       "      <th>1</th>\n",
       "      <td>27.0</td>\n",
       "      <td>Male</td>\n",
       "      <td>17.879359</td>\n",
       "      <td>No</td>\n",
       "      <td>Yes</td>\n",
       "    </tr>\n",
       "    <tr>\n",
       "      <th>2</th>\n",
       "      <td>26.0</td>\n",
       "      <td>Male</td>\n",
       "      <td>25.301623</td>\n",
       "      <td>No</td>\n",
       "      <td>Yes</td>\n",
       "    </tr>\n",
       "    <tr>\n",
       "      <th>3</th>\n",
       "      <td>31.0</td>\n",
       "      <td>Female</td>\n",
       "      <td>12.647520</td>\n",
       "      <td>No</td>\n",
       "      <td>No</td>\n",
       "    </tr>\n",
       "    <tr>\n",
       "      <th>4</th>\n",
       "      <td>26.0</td>\n",
       "      <td>Female</td>\n",
       "      <td>15.161172</td>\n",
       "      <td>No</td>\n",
       "      <td>No</td>\n",
       "    </tr>\n",
       "    <tr>\n",
       "      <th>...</th>\n",
       "      <td>...</td>\n",
       "      <td>...</td>\n",
       "      <td>...</td>\n",
       "      <td>...</td>\n",
       "      <td>...</td>\n",
       "    </tr>\n",
       "    <tr>\n",
       "      <th>1495</th>\n",
       "      <td>33.0</td>\n",
       "      <td>Male</td>\n",
       "      <td>22.012068</td>\n",
       "      <td>No</td>\n",
       "      <td>No</td>\n",
       "    </tr>\n",
       "    <tr>\n",
       "      <th>1497</th>\n",
       "      <td>30.0</td>\n",
       "      <td>Female</td>\n",
       "      <td>24.137684</td>\n",
       "      <td>No</td>\n",
       "      <td>No</td>\n",
       "    </tr>\n",
       "    <tr>\n",
       "      <th>1500</th>\n",
       "      <td>33.0</td>\n",
       "      <td>Female</td>\n",
       "      <td>17.308414</td>\n",
       "      <td>No</td>\n",
       "      <td>No</td>\n",
       "    </tr>\n",
       "    <tr>\n",
       "      <th>1501</th>\n",
       "      <td>32.0</td>\n",
       "      <td>Male</td>\n",
       "      <td>22.546954</td>\n",
       "      <td>No</td>\n",
       "      <td>No</td>\n",
       "    </tr>\n",
       "    <tr>\n",
       "      <th>1502</th>\n",
       "      <td>30.0</td>\n",
       "      <td>Female</td>\n",
       "      <td>24.883043</td>\n",
       "      <td>No</td>\n",
       "      <td>No</td>\n",
       "    </tr>\n",
       "  </tbody>\n",
       "</table>\n",
       "<p>1297 rows × 5 columns</p>\n",
       "</div>"
      ],
      "text/plain": [
       "       Age  Gender        BMI Smoking Diabetes\n",
       "0     22.0  Female  15.840094      No       No\n",
       "1     27.0    Male  17.879359      No      Yes\n",
       "2     26.0    Male  25.301623      No      Yes\n",
       "3     31.0  Female  12.647520      No       No\n",
       "4     26.0  Female  15.161172      No       No\n",
       "...    ...     ...        ...     ...      ...\n",
       "1495  33.0    Male  22.012068      No       No\n",
       "1497  30.0  Female  24.137684      No       No\n",
       "1500  33.0  Female  17.308414      No       No\n",
       "1501  32.0    Male  22.546954      No       No\n",
       "1502  30.0  Female  24.883043      No       No\n",
       "\n",
       "[1297 rows x 5 columns]"
      ]
     },
     "execution_count": 78,
     "metadata": {},
     "output_type": "execute_result"
    }
   ],
   "source": [
    "df.dropna()  # Drops rows with any missing value\n"
   ]
  },
  {
   "cell_type": "code",
   "execution_count": 79,
   "metadata": {},
   "outputs": [
    {
     "data": {
      "text/plain": [
       "0"
      ]
     },
     "execution_count": 79,
     "metadata": {},
     "output_type": "execute_result"
    }
   ],
   "source": [
    "df.isna().sum().sum()"
   ]
  },
  {
   "cell_type": "code",
   "execution_count": 80,
   "metadata": {},
   "outputs": [
    {
     "data": {
      "text/html": [
       "<div>\n",
       "<style scoped>\n",
       "    .dataframe tbody tr th:only-of-type {\n",
       "        vertical-align: middle;\n",
       "    }\n",
       "\n",
       "    .dataframe tbody tr th {\n",
       "        vertical-align: top;\n",
       "    }\n",
       "\n",
       "    .dataframe thead th {\n",
       "        text-align: right;\n",
       "    }\n",
       "</style>\n",
       "<table border=\"1\" class=\"dataframe\">\n",
       "  <thead>\n",
       "    <tr style=\"text-align: right;\">\n",
       "      <th></th>\n",
       "      <th>Age</th>\n",
       "      <th>Gender</th>\n",
       "      <th>BMI</th>\n",
       "      <th>Smoking</th>\n",
       "      <th>Diabetes</th>\n",
       "    </tr>\n",
       "  </thead>\n",
       "  <tbody>\n",
       "    <tr>\n",
       "      <th>0</th>\n",
       "      <td>22.0</td>\n",
       "      <td>Female</td>\n",
       "      <td>15.840094</td>\n",
       "      <td>No</td>\n",
       "      <td>No</td>\n",
       "    </tr>\n",
       "    <tr>\n",
       "      <th>1</th>\n",
       "      <td>27.0</td>\n",
       "      <td>Male</td>\n",
       "      <td>17.879359</td>\n",
       "      <td>No</td>\n",
       "      <td>Yes</td>\n",
       "    </tr>\n",
       "    <tr>\n",
       "      <th>2</th>\n",
       "      <td>26.0</td>\n",
       "      <td>Male</td>\n",
       "      <td>25.301623</td>\n",
       "      <td>No</td>\n",
       "      <td>Yes</td>\n",
       "    </tr>\n",
       "    <tr>\n",
       "      <th>3</th>\n",
       "      <td>31.0</td>\n",
       "      <td>Female</td>\n",
       "      <td>12.647520</td>\n",
       "      <td>No</td>\n",
       "      <td>No</td>\n",
       "    </tr>\n",
       "    <tr>\n",
       "      <th>4</th>\n",
       "      <td>26.0</td>\n",
       "      <td>Female</td>\n",
       "      <td>15.161172</td>\n",
       "      <td>No</td>\n",
       "      <td>No</td>\n",
       "    </tr>\n",
       "  </tbody>\n",
       "</table>\n",
       "</div>"
      ],
      "text/plain": [
       "    Age  Gender        BMI Smoking Diabetes\n",
       "0  22.0  Female  15.840094      No       No\n",
       "1  27.0    Male  17.879359      No      Yes\n",
       "2  26.0    Male  25.301623      No      Yes\n",
       "3  31.0  Female  12.647520      No       No\n",
       "4  26.0  Female  15.161172      No       No"
      ]
     },
     "execution_count": 80,
     "metadata": {},
     "output_type": "execute_result"
    }
   ],
   "source": [
    "df.head()"
   ]
  },
  {
   "cell_type": "code",
   "execution_count": 81,
   "metadata": {},
   "outputs": [
    {
     "data": {
      "text/html": [
       "<div>\n",
       "<style scoped>\n",
       "    .dataframe tbody tr th:only-of-type {\n",
       "        vertical-align: middle;\n",
       "    }\n",
       "\n",
       "    .dataframe tbody tr th {\n",
       "        vertical-align: top;\n",
       "    }\n",
       "\n",
       "    .dataframe thead th {\n",
       "        text-align: right;\n",
       "    }\n",
       "</style>\n",
       "<table border=\"1\" class=\"dataframe\">\n",
       "  <thead>\n",
       "    <tr style=\"text-align: right;\">\n",
       "      <th></th>\n",
       "      <th>Age</th>\n",
       "      <th>Gender</th>\n",
       "      <th>BMI</th>\n",
       "      <th>Smoking</th>\n",
       "      <th>Diabetes</th>\n",
       "    </tr>\n",
       "  </thead>\n",
       "  <tbody>\n",
       "    <tr>\n",
       "      <th>count</th>\n",
       "      <td>1297.000000</td>\n",
       "      <td>1297</td>\n",
       "      <td>1297.000000</td>\n",
       "      <td>1297</td>\n",
       "      <td>1297</td>\n",
       "    </tr>\n",
       "    <tr>\n",
       "      <th>unique</th>\n",
       "      <td>NaN</td>\n",
       "      <td>2</td>\n",
       "      <td>NaN</td>\n",
       "      <td>2</td>\n",
       "      <td>2</td>\n",
       "    </tr>\n",
       "    <tr>\n",
       "      <th>top</th>\n",
       "      <td>NaN</td>\n",
       "      <td>Female</td>\n",
       "      <td>NaN</td>\n",
       "      <td>No</td>\n",
       "      <td>No</td>\n",
       "    </tr>\n",
       "    <tr>\n",
       "      <th>freq</th>\n",
       "      <td>NaN</td>\n",
       "      <td>663</td>\n",
       "      <td>NaN</td>\n",
       "      <td>1055</td>\n",
       "      <td>1167</td>\n",
       "    </tr>\n",
       "    <tr>\n",
       "      <th>mean</th>\n",
       "      <td>26.206631</td>\n",
       "      <td>NaN</td>\n",
       "      <td>23.283805</td>\n",
       "      <td>NaN</td>\n",
       "      <td>NaN</td>\n",
       "    </tr>\n",
       "    <tr>\n",
       "      <th>std</th>\n",
       "      <td>4.521606</td>\n",
       "      <td>NaN</td>\n",
       "      <td>6.879367</td>\n",
       "      <td>NaN</td>\n",
       "      <td>NaN</td>\n",
       "    </tr>\n",
       "    <tr>\n",
       "      <th>min</th>\n",
       "      <td>18.000000</td>\n",
       "      <td>NaN</td>\n",
       "      <td>10.261761</td>\n",
       "      <td>NaN</td>\n",
       "      <td>NaN</td>\n",
       "    </tr>\n",
       "    <tr>\n",
       "      <th>25%</th>\n",
       "      <td>23.000000</td>\n",
       "      <td>NaN</td>\n",
       "      <td>18.182717</td>\n",
       "      <td>NaN</td>\n",
       "      <td>NaN</td>\n",
       "    </tr>\n",
       "    <tr>\n",
       "      <th>50%</th>\n",
       "      <td>26.000000</td>\n",
       "      <td>NaN</td>\n",
       "      <td>22.546954</td>\n",
       "      <td>NaN</td>\n",
       "      <td>NaN</td>\n",
       "    </tr>\n",
       "    <tr>\n",
       "      <th>75%</th>\n",
       "      <td>30.000000</td>\n",
       "      <td>NaN</td>\n",
       "      <td>27.519858</td>\n",
       "      <td>NaN</td>\n",
       "      <td>NaN</td>\n",
       "    </tr>\n",
       "    <tr>\n",
       "      <th>max</th>\n",
       "      <td>34.000000</td>\n",
       "      <td>NaN</td>\n",
       "      <td>43.253636</td>\n",
       "      <td>NaN</td>\n",
       "      <td>NaN</td>\n",
       "    </tr>\n",
       "  </tbody>\n",
       "</table>\n",
       "</div>"
      ],
      "text/plain": [
       "                Age  Gender          BMI Smoking Diabetes\n",
       "count   1297.000000    1297  1297.000000    1297     1297\n",
       "unique          NaN       2          NaN       2        2\n",
       "top             NaN  Female          NaN      No       No\n",
       "freq            NaN     663          NaN    1055     1167\n",
       "mean      26.206631     NaN    23.283805     NaN      NaN\n",
       "std        4.521606     NaN     6.879367     NaN      NaN\n",
       "min       18.000000     NaN    10.261761     NaN      NaN\n",
       "25%       23.000000     NaN    18.182717     NaN      NaN\n",
       "50%       26.000000     NaN    22.546954     NaN      NaN\n",
       "75%       30.000000     NaN    27.519858     NaN      NaN\n",
       "max       34.000000     NaN    43.253636     NaN      NaN"
      ]
     },
     "execution_count": 81,
     "metadata": {},
     "output_type": "execute_result"
    }
   ],
   "source": [
    "all = df.describe(include=\"all\")\n",
    "all"
   ]
  },
  {
   "cell_type": "markdown",
   "metadata": {},
   "source": [
    "## 3 Creating Age Groups for Analysis"
   ]
  },
  {
   "cell_type": "markdown",
   "metadata": {},
   "source": [
    "### Defined bins and labels for age ranges.\n",
    "\n",
    "- Bins: [0, 18, 25, 30, 34]\n",
    "- Labels: [\"0-18 Years\", \"19-25 Years\", \"26-30 Years\", \"31-34 Years\"]\n",
    "- Created the new \"Age Group\" column."
   ]
  },
  {
   "cell_type": "code",
   "execution_count": 82,
   "metadata": {},
   "outputs": [
    {
     "data": {
      "text/plain": [
       "34.0"
      ]
     },
     "execution_count": 82,
     "metadata": {},
     "output_type": "execute_result"
    }
   ],
   "source": [
    "df[\"Age\"].max()"
   ]
  },
  {
   "cell_type": "code",
   "execution_count": 123,
   "metadata": {},
   "outputs": [
    {
     "data": {
      "text/html": [
       "<div>\n",
       "<style scoped>\n",
       "    .dataframe tbody tr th:only-of-type {\n",
       "        vertical-align: middle;\n",
       "    }\n",
       "\n",
       "    .dataframe tbody tr th {\n",
       "        vertical-align: top;\n",
       "    }\n",
       "\n",
       "    .dataframe thead th {\n",
       "        text-align: right;\n",
       "    }\n",
       "</style>\n",
       "<table border=\"1\" class=\"dataframe\">\n",
       "  <thead>\n",
       "    <tr style=\"text-align: right;\">\n",
       "      <th></th>\n",
       "      <th>Age</th>\n",
       "      <th>Gender</th>\n",
       "      <th>BMI</th>\n",
       "      <th>Smoking</th>\n",
       "      <th>Diabetes</th>\n",
       "      <th>Age Group</th>\n",
       "    </tr>\n",
       "  </thead>\n",
       "  <tbody>\n",
       "    <tr>\n",
       "      <th>0</th>\n",
       "      <td>22.0</td>\n",
       "      <td>Female</td>\n",
       "      <td>15.840094</td>\n",
       "      <td>No</td>\n",
       "      <td>No</td>\n",
       "      <td>19-25 Years</td>\n",
       "    </tr>\n",
       "    <tr>\n",
       "      <th>1</th>\n",
       "      <td>27.0</td>\n",
       "      <td>Male</td>\n",
       "      <td>17.879359</td>\n",
       "      <td>No</td>\n",
       "      <td>Yes</td>\n",
       "      <td>26-30 Years</td>\n",
       "    </tr>\n",
       "    <tr>\n",
       "      <th>2</th>\n",
       "      <td>26.0</td>\n",
       "      <td>Male</td>\n",
       "      <td>25.301623</td>\n",
       "      <td>No</td>\n",
       "      <td>Yes</td>\n",
       "      <td>26-30 Years</td>\n",
       "    </tr>\n",
       "    <tr>\n",
       "      <th>3</th>\n",
       "      <td>31.0</td>\n",
       "      <td>Female</td>\n",
       "      <td>12.647520</td>\n",
       "      <td>No</td>\n",
       "      <td>No</td>\n",
       "      <td>31-34 Years</td>\n",
       "    </tr>\n",
       "    <tr>\n",
       "      <th>4</th>\n",
       "      <td>26.0</td>\n",
       "      <td>Female</td>\n",
       "      <td>15.161172</td>\n",
       "      <td>No</td>\n",
       "      <td>No</td>\n",
       "      <td>26-30 Years</td>\n",
       "    </tr>\n",
       "  </tbody>\n",
       "</table>\n",
       "</div>"
      ],
      "text/plain": [
       "    Age  Gender        BMI Smoking Diabetes    Age Group\n",
       "0  22.0  Female  15.840094      No       No  19-25 Years\n",
       "1  27.0    Male  17.879359      No      Yes  26-30 Years\n",
       "2  26.0    Male  25.301623      No      Yes  26-30 Years\n",
       "3  31.0  Female  12.647520      No       No  31-34 Years\n",
       "4  26.0  Female  15.161172      No       No  26-30 Years"
      ]
     },
     "execution_count": 123,
     "metadata": {},
     "output_type": "execute_result"
    }
   ],
   "source": [
    "# Define the bins and corresponding labels for age groups\n",
    "age_bin_edges = [0, 18, 25, 30, 34]  # Age ranges for grouping\n",
    "age_bin_labels = [\"0-18 Years\", \"19-25 Years\", \"26-30 Years\", \"31-34 Years\"]\n",
    "\n",
    "# Create a new column 'Age Group' using pd.cut\n",
    "df[\"Age Group\"] = pd.cut(df[\"Age\"], bins=age_bin_edges, labels=age_bin_labels)\n",
    "\n",
    "# Display the updated DataFrame\n",
    "df.head()\n"
   ]
  },
  {
   "cell_type": "code",
   "execution_count": 84,
   "metadata": {},
   "outputs": [
    {
     "data": {
      "text/plain": [
       "Age Group\n",
       "0-18 Years      54\n",
       "19-25 Years    458\n",
       "26-30 Years    497\n",
       "31-34 Years    288\n",
       "Name: count, dtype: int64"
      ]
     },
     "execution_count": 84,
     "metadata": {},
     "output_type": "execute_result"
    }
   ],
   "source": [
    "age_group = df['Age Group'].value_counts().sort_index()\n",
    "age_group"
   ]
  },
  {
   "cell_type": "markdown",
   "metadata": {},
   "source": [
    "## 1. Age Group Distribution\n",
    "### Purpose:\n",
    "Analyze the number of students in each age group."
   ]
  },
  {
   "cell_type": "code",
   "execution_count": 126,
   "metadata": {},
   "outputs": [
    {
     "name": "stderr",
     "output_type": "stream",
     "text": [
      "C:\\Users\\ADMIN\\AppData\\Local\\Temp\\ipykernel_18756\\203074872.py:2: FutureWarning: The default of observed=False is deprecated and will be changed to True in a future version of pandas. Pass observed=False to retain current behavior or observed=True to adopt the future default and silence this warning.\n",
      "  age_gender_counts = df.groupby(['Age Group', 'Gender']).size().unstack()\n"
     ]
    },
    {
     "name": "stdout",
     "output_type": "stream",
     "text": [
      "Gender       Female  Male\n",
      "Age Group                \n",
      "0-18 Years       25    29\n",
      "19-25 Years     244   214\n",
      "26-30 Years     250   247\n",
      "31-34 Years     144   144\n"
     ]
    },
    {
     "data": {
      "image/png": "[encoded data removed]",
      "text/plain": [
       "<Figure size 1200x700 with 1 Axes>"
      ]
     },
     "metadata": {},
     "output_type": "display_data"
    }
   ],
   "source": [
    "# Grouping data based on 'Gender' and 'Age Group'\n",
    "age_gender_counts = df.groupby(['Age Group', 'Gender']).size().unstack()\n",
    "print(age_gender_counts)\n",
    "\n",
    "ax = age_gender_counts.plot(\n",
    "    kind='bar',\n",
    "    colormap='Set3',\n",
    "    stacked= True,\n",
    "    title='Gender Distribution by Age Group',  # Updated title\n",
    "    ylabel='Number of Students by Gender',    # Updated y-axis label\n",
    "    xlabel='Age Groups',                      # x-axis label\n",
    "    figsize=(12, 7)\n",
    ")\n",
    "\n",
    "# Adding numbers (counts) on the bars\n",
    "for container in ax.containers:\n",
    "    # Add labels to each bar\n",
    "    ax.bar_label(container, label_type='center', fmt='%d', fontsize=10, color='black')\n",
    "\n",
    "# Adjust layout\n",
    "ax.figure.tight_layout()\n"
   ]
  },
  {
   "cell_type": "code",
   "execution_count": 99,
   "metadata": {},
   "outputs": [
    {
     "name": "stderr",
     "output_type": "stream",
     "text": [
      "C:\\Users\\ADMIN\\AppData\\Local\\Temp\\ipykernel_18756\\3553661099.py:6: FutureWarning: The default of observed=False is deprecated and will be changed to True in a future version of pandas. Pass observed=False to retain current behavior or observed=True to adopt the future default and silence this warning.\n",
      "  age_bmi_counts = df.groupby([ 'BMI Category', 'Gender']).size().unstack().fillna(0)\n"
     ]
    },
    {
     "data": {
      "image/png": "[encoded data removed]",
      "text/plain": [
       "<Figure size 1200x700 with 1 Axes>"
      ]
     },
     "metadata": {},
     "output_type": "display_data"
    }
   ],
   "source": [
    "bmi_bins = [0, 18.5, 24.9, 29.9, 40]  # Bins for BMI categories\n",
    "bmi_labels = [\"Underweight\", \"Normal\", \"Overweight\", \"Obese\"]\n",
    "df['BMI Category'] = pd.cut(df['BMI'], bins=bmi_bins, labels=bmi_labels, include_lowest=True)\n",
    "\n",
    "# Grouping data based on 'Age Group' and 'BMI Category'\n",
    "age_bmi_counts = df.groupby([ 'BMI Category', 'Gender']).size().unstack().fillna(0)\n",
    "\n",
    "# Plotting the data\n",
    "ax = age_bmi_counts.plot(\n",
    "    kind='bar',\n",
    "    stacked=True,\n",
    "    colormap='Set2',  # A modern and visually distinct color map\n",
    "    title='BMI Category Distribution by Gender',  # Updated title\n",
    "    ylabel='Number of Students',  # Updated y-axis label\n",
    "    xlabel='Age Groups',  # Updated x-axis label\n",
    "    figsize=(12, 7),  # Adjusted size for better presentation\n",
    ")\n",
    "for container in ax.containers:\n",
    "    # Add labels to each bar\n",
    "    ax.bar_label(container, label_type='center', fmt='%d', fontsize=10, color='black')\n",
    "\n",
    "# Display the plot\n",
    "ax.figure.tight_layout()"
   ]
  },
  {
   "cell_type": "code",
   "execution_count": 127,
   "metadata": {},
   "outputs": [
    {
     "name": "stderr",
     "output_type": "stream",
     "text": [
      "C:\\Users\\ADMIN\\AppData\\Local\\Temp\\ipykernel_18756\\732683028.py:2: FutureWarning: The default of observed=False is deprecated and will be changed to True in a future version of pandas. Pass observed=False to retain current behavior or observed=True to adopt the future default and silence this warning.\n",
      "  age_smoking_counts = df.groupby(['Age Group', 'Smoking']).size().unstack().fillna(0)\n"
     ]
    },
    {
     "data": {
      "image/png": "[encoded data removed]",
      "text/plain": [
       "<Figure size 1200x700 with 1 Axes>"
      ]
     },
     "metadata": {},
     "output_type": "display_data"
    }
   ],
   "source": [
    "# Grouping data based on 'Age Group' and 'Smoking' status\n",
    "age_smoking_counts = df.groupby(['Age Group', 'Smoking']).size().unstack().fillna(0)\n",
    "\n",
    "# Plotting the data\n",
    "ax = age_smoking_counts.plot(\n",
    "    kind='bar',\n",
    "    stacked=True,\n",
    "    colormap='Set2',\n",
    "    title='Smoking Habits Distribution by Age Group',\n",
    "    ylabel='Number of Students',\n",
    "    xlabel='Age Groups',\n",
    "    figsize=(12, 7)\n",
    ")\n",
    "\n",
    "# Adding numbers (counts) on the bars\n",
    "for container in ax.containers:\n",
    "    # Add labels to each bar\n",
    "    ax.bar_label(container, label_type='center', fmt='%d', fontsize=10, color='black')\n",
    "\n",
    "# Display the plot\n",
    "ax.figure.tight_layout()\n"
   ]
  },
  {
   "cell_type": "code",
   "execution_count": 89,
   "metadata": {},
   "outputs": [
    {
     "name": "stderr",
     "output_type": "stream",
     "text": [
      "C:\\Users\\ADMIN\\AppData\\Local\\Temp\\ipykernel_18756\\2586645244.py:2: FutureWarning: The default of observed=False is deprecated and will be changed to True in a future version of pandas. Pass observed=False to retain current behavior or observed=True to adopt the future default and silence this warning.\n",
      "  age_diabetes_counts = df.groupby(['Age Group', 'Diabetes']).size().unstack().fillna(0)\n"
     ]
    },
    {
     "data": {
      "image/png": "[encoded data removed]",
      "text/plain": [
       "<Figure size 1200x700 with 1 Axes>"
      ]
     },
     "metadata": {},
     "output_type": "display_data"
    }
   ],
   "source": [
    "# Grouping data based on 'Age Group' and 'Diabetes' status\n",
    "age_diabetes_counts = df.groupby(['Age Group', 'Diabetes']).size().unstack().fillna(0)\n",
    "\n",
    "# Plotting the data\n",
    "ax = age_diabetes_counts.plot(\n",
    "    kind='bar',\n",
    "    stacked=True,\n",
    "    colormap='Set3',\n",
    "    title='Diabetes Distribution by Age Group',\n",
    "    ylabel='Number of Students',\n",
    "    xlabel='Age Groups',\n",
    "    figsize=(12, 7)\n",
    ")\n",
    "\n",
    "# Adding numbers (counts) on the bars\n",
    "for container in ax.containers:\n",
    "    # Add labels to each bar\n",
    "    ax.bar_label(container, label_type='center', fmt='%d', fontsize=10, color='black')\n",
    "\n",
    "# Display the plot\n",
    "\n",
    "ax.figure.tight_layout()"
   ]
  }
 ],
 "metadata": {
  "kernelspec": {
   "display_name": "base",
   "language": "python",
   "name": "python3"
  },
  "language_info": {
   "codemirror_mode": {
    "name": "ipython",
    "version": 3
   },
   "file_extension": ".py",
   "mimetype": "text/x-python",
   "name": "python",
   "nbconvert_exporter": "python",
   "pygments_lexer": "ipython3",
   "version": "3.12.4"
  }
 },
 "nbformat": 4,
 "nbformat_minor": 2
}
